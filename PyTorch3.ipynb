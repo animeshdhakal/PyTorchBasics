{
  "nbformat": 4,
  "nbformat_minor": 0,
  "metadata": {
    "colab": {
      "provenance": [],
      "collapsed_sections": [],
      "authorship_tag": "ABX9TyMn7hevAqUZNOQOkJxaDsYC",
      "include_colab_link": true
    },
    "kernelspec": {
      "name": "python3",
      "display_name": "Python 3"
    },
    "language_info": {
      "name": "python"
    }
  },
  "cells": [
    {
      "cell_type": "markdown",
      "metadata": {
        "id": "view-in-github",
        "colab_type": "text"
      },
      "source": [
        "<a href=\"https://colab.research.google.com/github/animeshdhakal/PyTorchBasics/blob/main/PyTorch3.ipynb\" target=\"_parent\"><img src=\"https://colab.research.google.com/assets/colab-badge.svg\" alt=\"Open In Colab\"/></a>"
      ]
    },
    {
      "cell_type": "markdown",
      "source": [
        "## Linear Regression with PyTorch"
      ],
      "metadata": {
        "id": "VD8rv2fVcyeT"
      }
    },
    {
      "cell_type": "code",
      "execution_count": null,
      "metadata": {
        "id": "eVf3nto2lLC_"
      },
      "outputs": [],
      "source": [
        "import torch\n",
        "from torch import nn\n",
        "from matplotlib import pyplot as plt"
      ]
    },
    {
      "cell_type": "code",
      "source": [
        "real_w = 3\n",
        "X_train = torch.tensor([6.0, 3.0, 2.0, 5.0, 4.0])\n",
        "Y_train = X_train * real_w\n",
        "X_test = torch.tensor([2.0, 0.0, 7.0, 6.0, 8.0])\n",
        "Y_test = X_test * real_w\n",
        "\n",
        "X_train = X_train.unsqueeze(1)\n",
        "Y_train = Y_train.unsqueeze(1)\n",
        "X_test = X_test.unsqueeze(1)\n",
        "Y_test = Y_test.unsqueeze(1)"
      ],
      "metadata": {
        "id": "2rnBNNKmCj8Z"
      },
      "execution_count": null,
      "outputs": []
    },
    {
      "cell_type": "code",
      "source": [
        "class LinearRegression(nn.Module):\n",
        "  def __init__(self, in_features, out_features):\n",
        "    super(LinearRegression, self).__init__()\n",
        "    self.l1 = nn.Linear(in_features, out_features)\n",
        "  \n",
        "  def forward(self, x):\n",
        "    return self.l1(x)"
      ],
      "metadata": {
        "id": "lLvpRZOlDIgp"
      },
      "execution_count": null,
      "outputs": []
    },
    {
      "cell_type": "code",
      "source": [
        "n_samples, n_features = X_train.shape"
      ],
      "metadata": {
        "id": "rFYXk7BRDKAW"
      },
      "execution_count": null,
      "outputs": []
    },
    {
      "cell_type": "code",
      "source": [
        "model = LinearRegression(n_features, n_features)"
      ],
      "metadata": {
        "id": "VYRDa4tmGwWe"
      },
      "execution_count": null,
      "outputs": []
    },
    {
      "cell_type": "code",
      "source": [
        "optimizer = torch.optim.SGD(model.parameters(), lr=0.01)"
      ],
      "metadata": {
        "id": "lqb5dZ1EG1Pi"
      },
      "execution_count": null,
      "outputs": []
    },
    {
      "cell_type": "code",
      "source": [
        "loss_fn = nn.MSELoss()"
      ],
      "metadata": {
        "id": "Nt1A62psG_s4"
      },
      "execution_count": null,
      "outputs": []
    },
    {
      "cell_type": "code",
      "source": [
        "epochs = 1000"
      ],
      "metadata": {
        "id": "c2sU696OHHc8"
      },
      "execution_count": null,
      "outputs": []
    },
    {
      "cell_type": "code",
      "source": [
        "for epoch in range(epochs):\n",
        "  # Set the model to training mode\n",
        "  model.train()\n",
        "  \n",
        "  # Forward Pass\n",
        "  Y_pred = model(X_train)\n",
        "\n",
        "  # Calculate Loss\n",
        "  loss = loss_fn(Y_train, Y_pred)\n",
        "\n",
        "  # Clear the gradient\n",
        "  optimizer.zero_grad()\n",
        "\n",
        "  # Back Propagation\n",
        "  loss.backward()\n",
        "\n",
        "  # Update the Weights\n",
        "  optimizer.step()\n",
        "\n",
        "  if epoch % 100 == 0:\n",
        "    print(f\"Epoch: {epoch} Loss: {loss}\")"
      ],
      "metadata": {
        "colab": {
          "base_uri": "https://localhost:8080/"
        },
        "id": "un7-EMikHJ5c",
        "outputId": "ee264cfb-1a75-42ac-c6e5-00b09ae176d1"
      },
      "execution_count": null,
      "outputs": [
        {
          "output_type": "stream",
          "name": "stdout",
          "text": [
            "Epoch: 0 Loss: 2.040755617827017e-07\n",
            "Epoch: 100 Loss: 1.3343110083496867e-07\n",
            "Epoch: 200 Loss: 8.740194346046337e-08\n",
            "Epoch: 300 Loss: 5.7159923017024994e-08\n",
            "Epoch: 400 Loss: 3.7582548628734e-08\n",
            "Epoch: 500 Loss: 2.4625478545203805e-08\n",
            "Epoch: 600 Loss: 1.600078647356895e-08\n",
            "Epoch: 700 Loss: 1.0439362263525709e-08\n",
            "Epoch: 800 Loss: 6.832124199718237e-09\n",
            "Epoch: 900 Loss: 4.511457429856591e-09\n"
          ]
        }
      ]
    },
    {
      "cell_type": "code",
      "source": [
        "\n",
        "model.eval()\n",
        "\n",
        "with torch.inference_mode():\n",
        "  Y_pred = model(X_test)\n",
        "\n",
        "plt.plot(X_test, Y_test, label=\"Real\")\n",
        "plt.plot(X_test, Y_pred, label=\"Predicted\")\n",
        "plt.legend()\n"
      ],
      "metadata": {
        "colab": {
          "base_uri": "https://localhost:8080/",
          "height": 285
        },
        "id": "N_TOs4spHniE",
        "outputId": "575147c3-8a92-443d-c707-89ec445f203d"
      },
      "execution_count": null,
      "outputs": [
        {
          "output_type": "execute_result",
          "data": {
            "text/plain": [
              "<matplotlib.legend.Legend at 0x7ffa01cfd910>"
            ]
          },
          "metadata": {},
          "execution_count": 81
        },
        {
          "output_type": "display_data",
          "data": {
            "text/plain": [
              "<Figure size 432x288 with 1 Axes>"
            ],
            "image/png": "[encoded data removed]"
          },
          "metadata": {
            "needs_background": "light"
          }
        }
      ]
    },
    {
      "cell_type": "code",
      "source": [
        "model.state_dict()"
      ],
      "metadata": {
        "colab": {
          "base_uri": "https://localhost:8080/"
        },
        "id": "CQcPsywAJb_0",
        "outputId": "96676578-5744-4e15-989d-aa376c49e839"
      },
      "execution_count": null,
      "outputs": [
        {
          "output_type": "execute_result",
          "data": {
            "text/plain": [
              "OrderedDict([('l1.weight', tensor([[3.0000]])), ('l1.bias', tensor([0.0002]))])"
            ]
          },
          "metadata": {},
          "execution_count": 82
        }
      ]
    },
    {
      "cell_type": "code",
      "source": [],
      "metadata": {
        "id": "e_xqVHq0MNVu"
      },
      "execution_count": null,
      "outputs": []
    }
  ]
}