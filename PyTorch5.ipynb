{
  "nbformat": 4,
  "nbformat_minor": 0,
  "metadata": {
    "colab": {
      "provenance": [],
      "collapsed_sections": [],
      "authorship_tag": "ABX9TyOz3ErkovQC4nnlIxrRh4Jv",
      "include_colab_link": true
    },
    "kernelspec": {
      "name": "python3",
      "display_name": "Python 3"
    },
    "language_info": {
      "name": "python"
    }
  },
  "cells": [
    {
      "cell_type": "markdown",
      "metadata": {
        "id": "view-in-github",
        "colab_type": "text"
      },
      "source": [
        "<a href=\"https://colab.research.google.com/github/animeshdhakal/PyTorchBasics/blob/main/PyTorch5.ipynb\" target=\"_parent\"><img src=\"https://colab.research.google.com/assets/colab-badge.svg\" alt=\"Open In Colab\"/></a>"
      ]
    },
    {
      "cell_type": "code",
      "execution_count": null,
      "metadata": {
        "id": "H3PRvbK6cFiG"
      },
      "outputs": [],
      "source": [
        "import torch\n",
        "import torchvision\n",
        "from torch.utils.data import Dataset, DataLoader\n",
        "import numpy as np\n",
        "import math"
      ]
    },
    {
      "cell_type": "code",
      "source": [
        "class WineDataset:\n",
        "  def __init__(self):\n",
        "    xy = np.loadtxt(\"wine.csv\", dtype=np.float32, delimiter=\",\", skiprows=1)\n",
        "    self.x = torch.from_numpy(xy[:, 1:])\n",
        "    self.y = torch.from_numpy(xy[:, [0]])\n",
        "    self.n_samples = self.x.shape[0]\n",
        "\n",
        "\n",
        "  def __getitem__(self, index):\n",
        "    return self.x[index], self.y[index]\n",
        "  \n",
        "  def __len__(self):\n",
        "    return self.n_samples"
      ],
      "metadata": {
        "id": "C1umCfdla01D"
      },
      "execution_count": null,
      "outputs": []
    },
    {
      "cell_type": "code",
      "source": [
        "dataset = WineDataset()"
      ],
      "metadata": {
        "id": "t_pEwi1fdyJr"
      },
      "execution_count": null,
      "outputs": []
    },
    {
      "cell_type": "code",
      "source": [
        "dataloader = DataLoader(dataset=dataset, batch_size=4, shuffle=True)"
      ],
      "metadata": {
        "id": "EhHPuz1Yd0b7"
      },
      "execution_count": null,
      "outputs": []
    },
    {
      "cell_type": "code",
      "source": [
        "epochs = 2\n",
        "total_samples = len(dataset)"
      ],
      "metadata": {
        "id": "qQ8zdjE5d3tI"
      },
      "execution_count": null,
      "outputs": []
    },
    {
      "cell_type": "code",
      "source": [
        "n_iterations = math.ceil(total_samples / dataloader.batch_size)"
      ],
      "metadata": {
        "id": "RkbANSOReh6D"
      },
      "execution_count": null,
      "outputs": []
    },
    {
      "cell_type": "code",
      "source": [
        "for epoch in range(epochs):\n",
        "  for i, (X, Y) in enumerate(dataloader):\n",
        "\n",
        "    if (i+1) % 5 == 0:\n",
        "      print(f\"Epoch: {epoch+1}/{epochs}, Step: {i}/{n_iterations}\")\n",
        "    "
      ],
      "metadata": {
        "colab": {
          "base_uri": "https://localhost:8080/"
        },
        "id": "ChTKItdYesLA",
        "outputId": "dc3e9344-0ef8-4cf6-b009-157c12d172ce"
      },
      "execution_count": 13,
      "outputs": [
        {
          "output_type": "stream",
          "name": "stdout",
          "text": [
            "Epoch: 1/2, Step: 4/45\n",
            "Epoch: 1/2, Step: 9/45\n",
            "Epoch: 1/2, Step: 14/45\n",
            "Epoch: 1/2, Step: 19/45\n",
            "Epoch: 1/2, Step: 24/45\n",
            "Epoch: 1/2, Step: 29/45\n",
            "Epoch: 1/2, Step: 34/45\n",
            "Epoch: 1/2, Step: 39/45\n",
            "Epoch: 1/2, Step: 44/45\n",
            "Epoch: 2/2, Step: 4/45\n",
            "Epoch: 2/2, Step: 9/45\n",
            "Epoch: 2/2, Step: 14/45\n",
            "Epoch: 2/2, Step: 19/45\n",
            "Epoch: 2/2, Step: 24/45\n",
            "Epoch: 2/2, Step: 29/45\n",
            "Epoch: 2/2, Step: 34/45\n",
            "Epoch: 2/2, Step: 39/45\n",
            "Epoch: 2/2, Step: 44/45\n"
          ]
        }
      ]
    },
    {
      "cell_type": "code",
      "source": [],
      "metadata": {
        "id": "nS8wXvhIewrs"
      },
      "execution_count": null,
      "outputs": []
    }
  ]
}