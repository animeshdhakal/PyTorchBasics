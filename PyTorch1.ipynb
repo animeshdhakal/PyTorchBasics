{
  "nbformat": 4,
  "nbformat_minor": 0,
  "metadata": {
    "colab": {
      "provenance": [],
      "authorship_tag": "ABX9TyPJ9Ez4jFvdAAzijWKNMSPS",
      "include_colab_link": true
    },
    "kernelspec": {
      "name": "python3",
      "display_name": "Python 3"
    },
    "language_info": {
      "name": "python"
    },
    "accelerator": "GPU",
    "gpuClass": "standard"
  },
  "cells": [
    {
      "cell_type": "markdown",
      "metadata": {
        "id": "view-in-github",
        "colab_type": "text"
      },
      "source": [
        "<a href=\"https://colab.research.google.com/github/animeshdhakal/PyTorchBasics/blob/main/PyTorch1.ipynb\" target=\"_parent\"><img src=\"https://colab.research.google.com/assets/colab-badge.svg\" alt=\"Open In Colab\"/></a>"
      ]
    },
    {
      "cell_type": "code",
      "execution_count": 1,
      "metadata": {
        "id": "T0mS5eFDNALQ"
      },
      "outputs": [],
      "source": [
        "import torch\n",
        "import numpy as np"
      ]
    },
    {
      "cell_type": "markdown",
      "source": [
        "## Create a Empty Tensor\n",
        "We can create a empty tensor with the corresponding size\n",
        "\n"
      ],
      "metadata": {
        "id": "9k7Ho-bdNqF9"
      }
    },
    {
      "cell_type": "code",
      "source": [
        "torch.empty(3, 3, 3)"
      ],
      "metadata": {
        "colab": {
          "base_uri": "https://localhost:8080/"
        },
        "id": "fbL9_vaYNPqV",
        "outputId": "ea0302c5-94f1-4590-a8bd-6a3b2701d47e"
      },
      "execution_count": 2,
      "outputs": [
        {
          "output_type": "execute_result",
          "data": {
            "text/plain": [
              "tensor([[[9.5205e-35, 0.0000e+00, 1.4293e-43],\n",
              "         [0.0000e+00,        nan, 0.0000e+00],\n",
              "         [1.1434e+27, 7.5555e+31, 1.2705e+31]],\n",
              "\n",
              "        [[7.0948e+22, 3.8946e+21, 4.4650e+30],\n",
              "         [1.1286e+27, 2.8405e+20, 3.2608e-12],\n",
              "         [1.4583e-19, 1.0899e+27, 6.8943e+34]],\n",
              "\n",
              "        [[1.1835e+22, 7.0976e+22, 5.7886e+22],\n",
              "         [6.7120e+22, 1.1632e+33, 3.2598e-12],\n",
              "         [7.4086e+28, 7.1463e+22, 4.6241e+30]]])"
            ]
          },
          "metadata": {},
          "execution_count": 2
        }
      ]
    },
    {
      "cell_type": "markdown",
      "source": [
        "## Create a Tensor with random value\n"
      ],
      "metadata": {
        "id": "rxeY0kW5Oj7l"
      }
    },
    {
      "cell_type": "code",
      "source": [
        "torch.rand(3, 3, 3)"
      ],
      "metadata": {
        "colab": {
          "base_uri": "https://localhost:8080/"
        },
        "id": "CUt-Lmn2Ng8P",
        "outputId": "ed5ed6c8-d1e3-4fc0-9470-af1c9ceb765d"
      },
      "execution_count": 3,
      "outputs": [
        {
          "output_type": "execute_result",
          "data": {
            "text/plain": [
              "tensor([[[0.8215, 0.9641, 0.2417],\n",
              "         [0.2850, 0.5304, 0.3581],\n",
              "         [0.5170, 0.9815, 0.3806]],\n",
              "\n",
              "        [[0.7583, 0.2634, 0.6167],\n",
              "         [0.6544, 0.5620, 0.5754],\n",
              "         [0.6404, 0.9760, 0.3217]],\n",
              "\n",
              "        [[0.5371, 0.1948, 0.7972],\n",
              "         [0.0034, 0.1431, 0.0346],\n",
              "         [0.0442, 0.7760, 0.3024]]])"
            ]
          },
          "metadata": {},
          "execution_count": 3
        }
      ]
    },
    {
      "cell_type": "markdown",
      "source": [
        "## Create a Tensor with all values one"
      ],
      "metadata": {
        "id": "NhUII-8SPNTb"
      }
    },
    {
      "cell_type": "code",
      "source": [
        "torch.ones(1, 2)"
      ],
      "metadata": {
        "colab": {
          "base_uri": "https://localhost:8080/"
        },
        "id": "physqUUmPVb4",
        "outputId": "3f12ae7d-5796-4c5b-b3fe-d05863d64cc5"
      },
      "execution_count": 4,
      "outputs": [
        {
          "output_type": "execute_result",
          "data": {
            "text/plain": [
              "tensor([[1., 1.]])"
            ]
          },
          "metadata": {},
          "execution_count": 4
        }
      ]
    },
    {
      "cell_type": "markdown",
      "source": [
        "## Get the Datatype of Tensor"
      ],
      "metadata": {
        "id": "FKhLKfevPclI"
      }
    },
    {
      "cell_type": "code",
      "source": [
        "x = torch.rand(1, 2)\n",
        "x.dtype"
      ],
      "metadata": {
        "colab": {
          "base_uri": "https://localhost:8080/"
        },
        "id": "kZ_Nc7vSPaik",
        "outputId": "4dd7fddc-1fd9-444c-d766-61e32a795a77"
      },
      "execution_count": 5,
      "outputs": [
        {
          "output_type": "execute_result",
          "data": {
            "text/plain": [
              "torch.float32"
            ]
          },
          "metadata": {},
          "execution_count": 5
        }
      ]
    },
    {
      "cell_type": "markdown",
      "source": [
        "## Change Datatype of Tensor"
      ],
      "metadata": {
        "id": "WzvEyBPaPmjG"
      }
    },
    {
      "cell_type": "code",
      "source": [
        "x = torch.rand(1, 2, dtype=torch.float64)\n",
        "x.dtype"
      ],
      "metadata": {
        "colab": {
          "base_uri": "https://localhost:8080/"
        },
        "id": "KM2zG1HQPiKe",
        "outputId": "eed82764-eb2d-4f92-d1d6-b37a8bc4bae2"
      },
      "execution_count": 6,
      "outputs": [
        {
          "output_type": "execute_result",
          "data": {
            "text/plain": [
              "torch.float64"
            ]
          },
          "metadata": {},
          "execution_count": 6
        }
      ]
    },
    {
      "cell_type": "markdown",
      "source": [
        "## Get the size of Tensor"
      ],
      "metadata": {
        "id": "_4xAS2njP2Pm"
      }
    },
    {
      "cell_type": "code",
      "source": [
        "x.shape"
      ],
      "metadata": {
        "colab": {
          "base_uri": "https://localhost:8080/"
        },
        "id": "13EqRTTKPvFt",
        "outputId": "31b63656-1a37-4245-f174-26332839c32f"
      },
      "execution_count": 7,
      "outputs": [
        {
          "output_type": "execute_result",
          "data": {
            "text/plain": [
              "torch.Size([1, 2])"
            ]
          },
          "metadata": {},
          "execution_count": 7
        }
      ]
    },
    {
      "cell_type": "markdown",
      "source": [
        "## Arithmetic Operations"
      ],
      "metadata": {
        "id": "l3y3ZHtLQSkX"
      }
    },
    {
      "cell_type": "code",
      "source": [
        "x = torch.tensor([1, 2])\n",
        "y = torch.tensor([2, 4])"
      ],
      "metadata": {
        "id": "yKRQIwxxQVPk"
      },
      "execution_count": 8,
      "outputs": []
    },
    {
      "cell_type": "code",
      "source": [
        "torch.mul(x, y)"
      ],
      "metadata": {
        "colab": {
          "base_uri": "https://localhost:8080/"
        },
        "id": "HiYks0xGQbCS",
        "outputId": "7117511f-7ced-4814-d150-b0fb394eb03f"
      },
      "execution_count": 9,
      "outputs": [
        {
          "output_type": "execute_result",
          "data": {
            "text/plain": [
              "tensor([2, 8])"
            ]
          },
          "metadata": {},
          "execution_count": 9
        }
      ]
    },
    {
      "cell_type": "code",
      "source": [
        "x.mul_(y) # This is inplace operation which will assign result to x variable\n",
        "x"
      ],
      "metadata": {
        "colab": {
          "base_uri": "https://localhost:8080/"
        },
        "id": "DCG8iNKYQrEu",
        "outputId": "d8e5eda9-aa8c-41b3-f067-3103938ac438"
      },
      "execution_count": 10,
      "outputs": [
        {
          "output_type": "execute_result",
          "data": {
            "text/plain": [
              "tensor([2, 8])"
            ]
          },
          "metadata": {},
          "execution_count": 10
        }
      ]
    },
    {
      "cell_type": "markdown",
      "source": [
        "## Slicing Tensor"
      ],
      "metadata": {
        "id": "hlmia5S-RLle"
      }
    },
    {
      "cell_type": "code",
      "source": [
        "x = torch.rand(2, 2)"
      ],
      "metadata": {
        "id": "n7pVdIgKQ5KH"
      },
      "execution_count": 11,
      "outputs": []
    },
    {
      "cell_type": "code",
      "source": [
        "x"
      ],
      "metadata": {
        "colab": {
          "base_uri": "https://localhost:8080/"
        },
        "id": "AAgAkOKdRc0o",
        "outputId": "1edbf6ef-185f-41af-b060-c673b6c9ed7b"
      },
      "execution_count": 12,
      "outputs": [
        {
          "output_type": "execute_result",
          "data": {
            "text/plain": [
              "tensor([[0.2648, 0.4273],\n",
              "        [0.1020, 0.9590]])"
            ]
          },
          "metadata": {},
          "execution_count": 12
        }
      ]
    },
    {
      "cell_type": "code",
      "source": [
        "x[:, 1]"
      ],
      "metadata": {
        "colab": {
          "base_uri": "https://localhost:8080/"
        },
        "id": "3GxP_cciRPgT",
        "outputId": "65c8905b-901c-4c07-8b79-93624a933588"
      },
      "execution_count": 13,
      "outputs": [
        {
          "output_type": "execute_result",
          "data": {
            "text/plain": [
              "tensor([0.4273, 0.9590])"
            ]
          },
          "metadata": {},
          "execution_count": 13
        }
      ]
    },
    {
      "cell_type": "code",
      "source": [
        "x[1, :]"
      ],
      "metadata": {
        "colab": {
          "base_uri": "https://localhost:8080/"
        },
        "id": "FV_IaWo5RR2g",
        "outputId": "a72aef5f-ed7f-423b-b5df-e988c86a71e7"
      },
      "execution_count": 14,
      "outputs": [
        {
          "output_type": "execute_result",
          "data": {
            "text/plain": [
              "tensor([0.1020, 0.9590])"
            ]
          },
          "metadata": {},
          "execution_count": 14
        }
      ]
    },
    {
      "cell_type": "markdown",
      "source": [
        "## Reshaping Tensor"
      ],
      "metadata": {
        "id": "tp2j6gTrR7Ks"
      }
    },
    {
      "cell_type": "code",
      "source": [
        "x = torch.rand(3, 4)"
      ],
      "metadata": {
        "id": "CJ6y4ACAR8xf"
      },
      "execution_count": 15,
      "outputs": []
    },
    {
      "cell_type": "code",
      "source": [
        "x"
      ],
      "metadata": {
        "colab": {
          "base_uri": "https://localhost:8080/"
        },
        "id": "Q3ALi1XLSAdI",
        "outputId": "5d817a88-9e86-4c77-81b0-2ad4f918fb36"
      },
      "execution_count": 16,
      "outputs": [
        {
          "output_type": "execute_result",
          "data": {
            "text/plain": [
              "tensor([[0.2842, 0.8096, 0.7968, 0.0151],\n",
              "        [0.8443, 0.3252, 0.1726, 0.3200],\n",
              "        [0.1981, 0.3476, 0.6774, 0.4290]])"
            ]
          },
          "metadata": {},
          "execution_count": 16
        }
      ]
    },
    {
      "cell_type": "code",
      "source": [
        "x.reshape(12)"
      ],
      "metadata": {
        "colab": {
          "base_uri": "https://localhost:8080/"
        },
        "id": "KfNdDyy_SFwa",
        "outputId": "b9e292ed-9fdf-4bde-d82e-eb4963d6220b"
      },
      "execution_count": 17,
      "outputs": [
        {
          "output_type": "execute_result",
          "data": {
            "text/plain": [
              "tensor([0.2842, 0.8096, 0.7968, 0.0151, 0.8443, 0.3252, 0.1726, 0.3200, 0.1981,\n",
              "        0.3476, 0.6774, 0.4290])"
            ]
          },
          "metadata": {},
          "execution_count": 17
        }
      ]
    },
    {
      "cell_type": "code",
      "source": [
        "x.reshape(2, 6)"
      ],
      "metadata": {
        "colab": {
          "base_uri": "https://localhost:8080/"
        },
        "id": "1q16zaHnSIHm",
        "outputId": "6a0473e8-0d3b-4d80-928a-cc802a5bf0a8"
      },
      "execution_count": 18,
      "outputs": [
        {
          "output_type": "execute_result",
          "data": {
            "text/plain": [
              "tensor([[0.2842, 0.8096, 0.7968, 0.0151, 0.8443, 0.3252],\n",
              "        [0.1726, 0.3200, 0.1981, 0.3476, 0.6774, 0.4290]])"
            ]
          },
          "metadata": {},
          "execution_count": 18
        }
      ]
    },
    {
      "cell_type": "markdown",
      "source": [
        "## Numpy to Tensor and Vice Versa\n",
        "Here both shares same memory"
      ],
      "metadata": {
        "id": "pqrv5ChRTfFS"
      }
    },
    {
      "cell_type": "code",
      "source": [
        "x = torch.rand(3, 3)"
      ],
      "metadata": {
        "id": "CjdIINmUTiEw"
      },
      "execution_count": 19,
      "outputs": []
    },
    {
      "cell_type": "code",
      "source": [
        "y = x.numpy()"
      ],
      "metadata": {
        "id": "cV-eefmaTt_i"
      },
      "execution_count": 20,
      "outputs": []
    },
    {
      "cell_type": "code",
      "source": [
        "x"
      ],
      "metadata": {
        "colab": {
          "base_uri": "https://localhost:8080/"
        },
        "id": "B5Z1fhjfUDIk",
        "outputId": "ccac7b65-debb-4da9-f39e-2a59270778a7"
      },
      "execution_count": 21,
      "outputs": [
        {
          "output_type": "execute_result",
          "data": {
            "text/plain": [
              "tensor([[0.6041, 0.4942, 0.5477],\n",
              "        [0.7990, 0.9834, 0.5860],\n",
              "        [0.2733, 0.6204, 0.2637]])"
            ]
          },
          "metadata": {},
          "execution_count": 21
        }
      ]
    },
    {
      "cell_type": "code",
      "source": [
        "y"
      ],
      "metadata": {
        "colab": {
          "base_uri": "https://localhost:8080/"
        },
        "id": "dCQZRTvEUGKi",
        "outputId": "8d7ea39d-3e98-4efb-84ba-5736573b5ec3"
      },
      "execution_count": 22,
      "outputs": [
        {
          "output_type": "execute_result",
          "data": {
            "text/plain": [
              "array([[0.60406566, 0.49417466, 0.5477161 ],\n",
              "       [0.7989809 , 0.98337793, 0.5860391 ],\n",
              "       [0.2732569 , 0.6203838 , 0.26370674]], dtype=float32)"
            ]
          },
          "metadata": {},
          "execution_count": 22
        }
      ]
    },
    {
      "cell_type": "code",
      "source": [
        "x[1, 1] = 2"
      ],
      "metadata": {
        "id": "KyGhR_9ATwAM"
      },
      "execution_count": 23,
      "outputs": []
    },
    {
      "cell_type": "code",
      "source": [
        "x"
      ],
      "metadata": {
        "colab": {
          "base_uri": "https://localhost:8080/"
        },
        "id": "0fDOUYkzUEK0",
        "outputId": "0a3816fd-2d5c-4a1f-cb8f-50146e1aecf2"
      },
      "execution_count": 24,
      "outputs": [
        {
          "output_type": "execute_result",
          "data": {
            "text/plain": [
              "tensor([[0.6041, 0.4942, 0.5477],\n",
              "        [0.7990, 2.0000, 0.5860],\n",
              "        [0.2733, 0.6204, 0.2637]])"
            ]
          },
          "metadata": {},
          "execution_count": 24
        }
      ]
    },
    {
      "cell_type": "code",
      "source": [
        "y"
      ],
      "metadata": {
        "colab": {
          "base_uri": "https://localhost:8080/"
        },
        "id": "Y3fbOJvXUIZm",
        "outputId": "0eb61a1a-4df1-4582-cdbd-2e7d1c1521ef"
      },
      "execution_count": 25,
      "outputs": [
        {
          "output_type": "execute_result",
          "data": {
            "text/plain": [
              "array([[0.60406566, 0.49417466, 0.5477161 ],\n",
              "       [0.7989809 , 2.        , 0.5860391 ],\n",
              "       [0.2732569 , 0.6203838 , 0.26370674]], dtype=float32)"
            ]
          },
          "metadata": {},
          "execution_count": 25
        }
      ]
    },
    {
      "cell_type": "code",
      "source": [
        "x = np.array([1, 2, 3])"
      ],
      "metadata": {
        "id": "nsFHKG8NUJk-"
      },
      "execution_count": 26,
      "outputs": []
    },
    {
      "cell_type": "code",
      "source": [
        "y = torch.from_numpy(x)"
      ],
      "metadata": {
        "id": "Df04RsQ_UiSN"
      },
      "execution_count": 27,
      "outputs": []
    },
    {
      "cell_type": "code",
      "source": [
        "y"
      ],
      "metadata": {
        "colab": {
          "base_uri": "https://localhost:8080/"
        },
        "id": "4eNVawExUlQe",
        "outputId": "baa4da36-024c-4315-b535-4eb18bd0dd20"
      },
      "execution_count": 28,
      "outputs": [
        {
          "output_type": "execute_result",
          "data": {
            "text/plain": [
              "tensor([1, 2, 3])"
            ]
          },
          "metadata": {},
          "execution_count": 28
        }
      ]
    },
    {
      "cell_type": "markdown",
      "source": [
        "## Using GPU"
      ],
      "metadata": {
        "id": "bThHDSfCWEjm"
      }
    },
    {
      "cell_type": "code",
      "source": [
        "device = \"cuda\" if torch.cuda.is_available() else \"cpu\""
      ],
      "metadata": {
        "id": "6uSz4zy_Una2"
      },
      "execution_count": 29,
      "outputs": []
    },
    {
      "cell_type": "code",
      "source": [
        "x = torch.rand([1, 2], device=device)"
      ],
      "metadata": {
        "id": "eNZWyvrHV6ru"
      },
      "execution_count": 32,
      "outputs": []
    },
    {
      "cell_type": "code",
      "source": [
        "# Convert Previous Tensor to GPU\n",
        "y = torch.rand([1, 2])"
      ],
      "metadata": {
        "id": "9hC4AGWEWOnu"
      },
      "execution_count": 33,
      "outputs": []
    },
    {
      "cell_type": "code",
      "source": [
        "y = y.to(device)"
      ],
      "metadata": {
        "id": "O03zEN32Wsgh"
      },
      "execution_count": 34,
      "outputs": []
    },
    {
      "cell_type": "code",
      "source": [
        "y.device"
      ],
      "metadata": {
        "colab": {
          "base_uri": "https://localhost:8080/"
        },
        "id": "xGbu5Ze6WuSy",
        "outputId": "953b18fd-089c-4af7-863d-f09c01a06b4a"
      },
      "execution_count": 35,
      "outputs": [
        {
          "output_type": "execute_result",
          "data": {
            "text/plain": [
              "device(type='cuda', index=0)"
            ]
          },
          "metadata": {},
          "execution_count": 35
        }
      ]
    },
    {
      "cell_type": "markdown",
      "source": [
        "## Autograd"
      ],
      "metadata": {
        "id": "qLRZgTfXW4fv"
      }
    },
    {
      "cell_type": "code",
      "source": [
        "a = torch.randn(3, requires_grad=True)"
      ],
      "metadata": {
        "id": "2fT0EYs9XUKv"
      },
      "execution_count": 71,
      "outputs": []
    },
    {
      "cell_type": "code",
      "source": [
        "a"
      ],
      "metadata": {
        "colab": {
          "base_uri": "https://localhost:8080/"
        },
        "id": "NLkT_TtjXktS",
        "outputId": "b64caf46-67ca-4cc3-ea0b-23a2440ed81f"
      },
      "execution_count": 72,
      "outputs": [
        {
          "output_type": "execute_result",
          "data": {
            "text/plain": [
              "tensor([-0.2629,  0.9816,  0.5537], requires_grad=True)"
            ]
          },
          "metadata": {},
          "execution_count": 72
        }
      ]
    },
    {
      "cell_type": "code",
      "source": [
        "b = a.mean()"
      ],
      "metadata": {
        "id": "zJ2kYeMrZew2"
      },
      "execution_count": 73,
      "outputs": []
    },
    {
      "cell_type": "code",
      "source": [
        "b.backward() # dy / dx"
      ],
      "metadata": {
        "id": "GDx2ZdwfYFFj"
      },
      "execution_count": 74,
      "outputs": []
    },
    {
      "cell_type": "code",
      "source": [
        "a"
      ],
      "metadata": {
        "colab": {
          "base_uri": "https://localhost:8080/"
        },
        "id": "W5iRjw8YZi3D",
        "outputId": "6735894e-3665-4bfe-a565-aba6aebc68d7"
      },
      "execution_count": 77,
      "outputs": [
        {
          "output_type": "execute_result",
          "data": {
            "text/plain": [
              "tensor([-0.2629,  0.9816,  0.5537], requires_grad=True)"
            ]
          },
          "metadata": {},
          "execution_count": 77
        }
      ]
    },
    {
      "cell_type": "code",
      "source": [
        "with torch.no_grad(): # Stop Creating Gradient Function\n",
        "  b = a * 2"
      ],
      "metadata": {
        "id": "y90ZgFXoa3aP"
      },
      "execution_count": 80,
      "outputs": []
    },
    {
      "cell_type": "code",
      "source": [
        "b"
      ],
      "metadata": {
        "colab": {
          "base_uri": "https://localhost:8080/"
        },
        "id": "roYGFBUga9w_",
        "outputId": "7a0fd626-d781-4b13-b75b-e8f8316813f8"
      },
      "execution_count": 81,
      "outputs": [
        {
          "output_type": "execute_result",
          "data": {
            "text/plain": [
              "tensor([-0.5259,  1.9632,  1.1074])"
            ]
          },
          "metadata": {},
          "execution_count": 81
        }
      ]
    }
  ]
}