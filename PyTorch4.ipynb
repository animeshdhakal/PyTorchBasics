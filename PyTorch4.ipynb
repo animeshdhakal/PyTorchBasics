{
  "nbformat": 4,
  "nbformat_minor": 0,
  "metadata": {
    "colab": {
      "provenance": [],
      "collapsed_sections": [],
      "authorship_tag": "ABX9TyOStEQoKIFprjKWEzitCUi4",
      "include_colab_link": true
    },
    "kernelspec": {
      "name": "python3",
      "display_name": "Python 3"
    },
    "language_info": {
      "name": "python"
    }
  },
  "cells": [
    {
      "cell_type": "markdown",
      "metadata": {
        "id": "view-in-github",
        "colab_type": "text"
      },
      "source": [
        "<a href=\"https://colab.research.google.com/github/animeshdhakal/PyTorchBasics/blob/main/PyTorch4.ipynb\" target=\"_parent\"><img src=\"https://colab.research.google.com/assets/colab-badge.svg\" alt=\"Open In Colab\"/></a>"
      ]
    },
    {
      "cell_type": "markdown",
      "source": [
        "## Logistic Regression using PyTorch"
      ],
      "metadata": {
        "id": "8QSw42Qzc70Q"
      }
    },
    {
      "cell_type": "code",
      "execution_count": null,
      "metadata": {
        "id": "cGKY8Sy7RrUN"
      },
      "outputs": [],
      "source": [
        "import torch\n",
        "import torch.nn as nn\n",
        "from sklearn import datasets\n",
        "from sklearn.model_selection import train_test_split\n",
        "from sklearn.preprocessing import StandardScaler\n",
        "from matplotlib import pyplot as plt\n",
        "import numpy as np"
      ]
    },
    {
      "cell_type": "code",
      "source": [
        "bc = datasets.load_breast_cancer()\n",
        "\n",
        "X, Y = bc.data, bc.target"
      ],
      "metadata": {
        "id": "-4fWX-jXSH8E"
      },
      "execution_count": null,
      "outputs": []
    },
    {
      "cell_type": "code",
      "source": [
        "n_samples, n_features = X.shape"
      ],
      "metadata": {
        "id": "DjMG58ohSXTb"
      },
      "execution_count": null,
      "outputs": []
    },
    {
      "cell_type": "code",
      "source": [
        "X_train, X_test, Y_train, Y_test = train_test_split(X, Y, test_size=0.2)"
      ],
      "metadata": {
        "id": "hfTQ5h8QS248"
      },
      "execution_count": null,
      "outputs": []
    },
    {
      "cell_type": "code",
      "source": [
        "ss = StandardScaler()\n",
        "\n",
        "X_train = ss.fit_transform(X_train)\n",
        "X_test = ss.transform(X_test)"
      ],
      "metadata": {
        "id": "U7GU5DP4ZD7w"
      },
      "execution_count": null,
      "outputs": []
    },
    {
      "cell_type": "code",
      "source": [
        "X_train, X_test, Y_train, Y_test = torch.from_numpy(X_train.astype(np.float32)), torch.from_numpy(X_test.astype(np.float32)), torch.from_numpy(Y_train.astype(np.float32)), torch.from_numpy(Y_test.astype(np.float32))"
      ],
      "metadata": {
        "id": "drDLCR4yS-mm"
      },
      "execution_count": null,
      "outputs": []
    },
    {
      "cell_type": "code",
      "source": [
        "Y_train = Y_train.unsqueeze(1)\n",
        "Y_test = Y_test.unsqueeze(1)"
      ],
      "metadata": {
        "id": "anUjNkQfaa4s"
      },
      "execution_count": null,
      "outputs": []
    },
    {
      "cell_type": "code",
      "source": [
        "class LogisticRegression(nn.Module):\n",
        "  def __init__(self, in_features, out_features):\n",
        "    super(LogisticRegression, self).__init__()\n",
        "    self.lin1 = nn.Linear(in_features, out_features)\n",
        "  \n",
        "  def forward(self, x):\n",
        "    return torch.sigmoid(self.lin1(x))"
      ],
      "metadata": {
        "id": "ugVIklBOUZAF"
      },
      "execution_count": null,
      "outputs": []
    },
    {
      "cell_type": "code",
      "source": [
        "model = LogisticRegression(n_features, 1)"
      ],
      "metadata": {
        "id": "IjgJm4aSUaFn"
      },
      "execution_count": null,
      "outputs": []
    },
    {
      "cell_type": "code",
      "source": [
        "loss_fn = nn.BCELoss() # Used for Binary Classification\n",
        "optimizer = torch.optim.SGD(model.parameters(), lr=0.01)"
      ],
      "metadata": {
        "id": "T3ApBCwhVLIy"
      },
      "execution_count": null,
      "outputs": []
    },
    {
      "cell_type": "code",
      "source": [
        "epochs = 10000"
      ],
      "metadata": {
        "id": "ijF56ELLVpS8"
      },
      "execution_count": null,
      "outputs": []
    },
    {
      "cell_type": "code",
      "source": [
        "for epoch in range(epochs):\n",
        "  model.train()\n",
        "\n",
        "  Y_pred = model(X_train)\n",
        "\n",
        "  loss = loss_fn(Y_pred, Y_train)\n",
        "\n",
        "  optimizer.zero_grad()\n",
        "\n",
        "  loss.backward()\n",
        "\n",
        "  optimizer.step()\n",
        "\n",
        "  if (epoch+1) % 100 == 0:\n",
        "    print(f\"Epoch: {epoch+1} Loss: {loss}\")"
      ],
      "metadata": {
        "colab": {
          "base_uri": "https://localhost:8080/"
        },
        "id": "w3QDwcQ_Vu6-",
        "outputId": "f8723d86-6145-4b82-810f-003b58cd1c61"
      },
      "execution_count": null,
      "outputs": [
        {
          "output_type": "stream",
          "name": "stdout",
          "text": [
            "Epoch: 100 Loss: 0.07010675221681595\n",
            "Epoch: 200 Loss: 0.06944606453180313\n",
            "Epoch: 300 Loss: 0.06881500780582428\n",
            "Epoch: 400 Loss: 0.06821135431528091\n",
            "Epoch: 500 Loss: 0.06763313710689545\n",
            "Epoch: 600 Loss: 0.0670786201953888\n",
            "Epoch: 700 Loss: 0.06654620170593262\n",
            "Epoch: 800 Loss: 0.06603439897298813\n",
            "Epoch: 900 Loss: 0.06554193049669266\n",
            "Epoch: 1000 Loss: 0.0650675818324089\n"
          ]
        }
      ]
    },
    {
      "cell_type": "code",
      "source": [
        "model.eval()"
      ],
      "metadata": {
        "colab": {
          "base_uri": "https://localhost:8080/"
        },
        "id": "eIgpM7JoWIOt",
        "outputId": "bed3578b-c1df-4c78-9ed0-e2a7b0c4b594"
      },
      "execution_count": null,
      "outputs": [
        {
          "output_type": "execute_result",
          "data": {
            "text/plain": [
              "LogisticRegression(\n",
              "  (lin1): Linear(in_features=30, out_features=1, bias=True)\n",
              ")"
            ]
          },
          "metadata": {},
          "execution_count": 120
        }
      ]
    },
    {
      "cell_type": "code",
      "source": [
        "with torch.inference_mode():\n",
        "  Y_pred = model(X_test)\n",
        "  acc = Y_pred.round().eq(Y_test).sum() / float(Y_test.shape[0])\n",
        "  print(f\"Accuracy {acc:.4f}\")"
      ],
      "metadata": {
        "colab": {
          "base_uri": "https://localhost:8080/"
        },
        "id": "p30UXD9KXwqF",
        "outputId": "b12ba98a-fad1-41bd-e0df-e07a90eb5e30"
      },
      "execution_count": null,
      "outputs": [
        {
          "output_type": "stream",
          "name": "stdout",
          "text": [
            "Accuracy 0.9561\n"
          ]
        }
      ]
    }
  ]
}