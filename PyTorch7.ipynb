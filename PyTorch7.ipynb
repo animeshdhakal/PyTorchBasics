{
  "nbformat": 4,
  "nbformat_minor": 0,
  "metadata": {
    "colab": {
      "provenance": [],
      "authorship_tag": "ABX9TyNiEsqro8fBY4uQcXFcfaMo",
      "include_colab_link": true
    },
    "kernelspec": {
      "name": "python3",
      "display_name": "Python 3"
    },
    "language_info": {
      "name": "python"
    }
  },
  "cells": [
    {
      "cell_type": "markdown",
      "metadata": {
        "id": "view-in-github",
        "colab_type": "text"
      },
      "source": [
        "<a href=\"https://colab.research.google.com/github/animeshdhakal/PyTorchBasics/blob/main/PyTorch7.ipynb\" target=\"_parent\"><img src=\"https://colab.research.google.com/assets/colab-badge.svg\" alt=\"Open In Colab\"/></a>"
      ]
    },
    {
      "cell_type": "code",
      "execution_count": 20,
      "metadata": {
        "id": "n0h32plZy3R5"
      },
      "outputs": [],
      "source": [
        "import torch\n",
        "import torch.nn as nn\n",
        "import torch.nn.functional as F\n",
        "import torchvision\n",
        "import torchvision.transforms as transforms\n",
        "import matplotlib.pyplot as plt\n",
        "import numpy as np"
      ]
    },
    {
      "cell_type": "code",
      "source": [
        "device = torch.device(\"cuda\" if torch.cuda.is_available() else \"cpu\")"
      ],
      "metadata": {
        "id": "OmbaB2p61rMc"
      },
      "execution_count": 21,
      "outputs": []
    },
    {
      "cell_type": "code",
      "source": [
        "num_epochs = 2\n",
        "batch_size = 4\n",
        "learning_rate = 0.001"
      ],
      "metadata": {
        "id": "tXjA8Qtz1zwQ"
      },
      "execution_count": 22,
      "outputs": []
    },
    {
      "cell_type": "code",
      "source": [
        "transform = transforms.Compose([\n",
        "    transforms.ToTensor(),\n",
        "    transforms.Normalize((0.5, 0.5, 0.5), (0.5, 0.5, 0.5))\n",
        "])"
      ],
      "metadata": {
        "id": "IZKnb-eq18U7"
      },
      "execution_count": 23,
      "outputs": []
    },
    {
      "cell_type": "code",
      "source": [
        "train_data = torchvision.datasets.CIFAR10(root=\"./datasets\", train=True, download=True, transform=transform)"
      ],
      "metadata": {
        "colab": {
          "base_uri": "https://localhost:8080/"
        },
        "id": "zmnvuaoa2Td1",
        "outputId": "540f9dab-e840-4782-a05c-4df11eab3984"
      },
      "execution_count": 28,
      "outputs": [
        {
          "output_type": "stream",
          "name": "stdout",
          "text": [
            "Files already downloaded and verified\n"
          ]
        }
      ]
    },
    {
      "cell_type": "code",
      "source": [
        "test_data = torchvision.datasets.CIFAR10(root=\"./datasets\", train=False, download=False, transform=transform)"
      ],
      "metadata": {
        "id": "i2nNhql82hBY"
      },
      "execution_count": 31,
      "outputs": []
    },
    {
      "cell_type": "code",
      "source": [
        "train_loader = torch.utils.data.DataLoader(dataset=train_data, batch_size=batch_size)\n",
        "test_loader = torch.utils.data.DataLoader(dataset=test_data, batch_size=batch_size)"
      ],
      "metadata": {
        "id": "A3kqStVr2mFt"
      },
      "execution_count": 33,
      "outputs": []
    },
    {
      "cell_type": "code",
      "source": [
        "classes = (\"airplane\", \"car\", \"bird\", \"cat\", \"deer\", \"dog\", \"frog\", \"horse\", \"ship\", \"truck\")"
      ],
      "metadata": {
        "id": "fZVSIPys5HP-"
      },
      "execution_count": 43,
      "outputs": []
    },
    {
      "cell_type": "code",
      "source": [
        "class ConvNeuralNet(nn.Module):\n",
        "  def __init__(self):\n",
        "    super().__init__()\n",
        "\n",
        "    self.conv1 = nn.Conv2d(3, 6, 5)\n",
        "    self.pool = nn.MaxPool2d(2, 2)\n",
        "    self.conv2 = nn.Conv2d(6, 16, 5)\n",
        "\n",
        "    self.fc1 = nn.Linear(16 * 5 * 5, 100)\n",
        "    self.fc2 = nn.Linear(100, 84)\n",
        "    self.fc3 = nn.Linear(84, 10)\n",
        "\n",
        "\n",
        "\n",
        "  def forward(self, x):\n",
        "    x = self.pool(F.relu(self.conv1(x)))\n",
        "    x = self.pool(F.relu(self.conv2(x)))\n",
        "    x = x.reshape(-1, 16*5*5)\n",
        "    x = F.relu(self.fc1(x))\n",
        "    x = F.relu(self.fc2(x))\n",
        "    x = self.fc3(x)\n",
        "\n",
        "    return x"
      ],
      "metadata": {
        "id": "x8rjfWP73L2j"
      },
      "execution_count": 44,
      "outputs": []
    },
    {
      "cell_type": "code",
      "source": [
        "model = ConvNeuralNet().to(device)\n",
        "criterion = nn.CrossEntropyLoss()\n",
        "optimizer = torch.optim.SGD(model.parameters(), lr=learning_rate)"
      ],
      "metadata": {
        "id": "9Sm7pjQU3gMW"
      },
      "execution_count": 45,
      "outputs": []
    },
    {
      "cell_type": "code",
      "source": [
        "num_steps = len(train_loader)\n",
        "\n",
        "for epoch in range(num_epochs):\n",
        "  for i, (images, labels) in enumerate(train_loader):\n",
        "    images = images.to(device)\n",
        "    labels = labels.to(device)\n",
        "\n",
        "    model.train()\n",
        "\n",
        "    outputs = model(images)\n",
        "\n",
        "    loss = criterion(outputs, labels)\n",
        "\n",
        "    optimizer.zero_grad()\n",
        "\n",
        "    loss.backward()\n",
        "\n",
        "    optimizer.step()\n",
        "\n",
        "    if (i+1)%2000 == 0:\n",
        "      print(f\"Epoch: {epoch+1}/{num_epochs}, Step: {i+1}/{num_steps}, Loss: {loss:.4f}\")"
      ],
      "metadata": {
        "colab": {
          "base_uri": "https://localhost:8080/"
        },
        "id": "2uyqbe_j3x_s",
        "outputId": "19522b95-8e7b-46dd-c420-9d21311c7d0c"
      },
      "execution_count": 46,
      "outputs": [
        {
          "output_type": "stream",
          "name": "stdout",
          "text": [
            "Epoch: 1/2, Step: 2000/50000, Loss: 2.2812\n",
            "Epoch: 1/2, Step: 4000/50000, Loss: 2.2539\n",
            "Epoch: 1/2, Step: 6000/50000, Loss: 2.2898\n",
            "Epoch: 1/2, Step: 8000/50000, Loss: 2.3102\n",
            "Epoch: 1/2, Step: 10000/50000, Loss: 2.3491\n",
            "Epoch: 1/2, Step: 12000/50000, Loss: 2.3456\n",
            "Epoch: 1/2, Step: 14000/50000, Loss: 1.9505\n",
            "Epoch: 1/2, Step: 16000/50000, Loss: 2.0313\n",
            "Epoch: 1/2, Step: 18000/50000, Loss: 1.8170\n",
            "Epoch: 1/2, Step: 20000/50000, Loss: 2.5638\n",
            "Epoch: 1/2, Step: 22000/50000, Loss: 1.1871\n",
            "Epoch: 1/2, Step: 24000/50000, Loss: 1.7163\n",
            "Epoch: 1/2, Step: 26000/50000, Loss: 1.9615\n",
            "Epoch: 1/2, Step: 28000/50000, Loss: 0.6097\n",
            "Epoch: 1/2, Step: 30000/50000, Loss: 0.4554\n",
            "Epoch: 1/2, Step: 32000/50000, Loss: 1.4167\n",
            "Epoch: 1/2, Step: 34000/50000, Loss: 0.9978\n",
            "Epoch: 1/2, Step: 36000/50000, Loss: 1.3191\n",
            "Epoch: 1/2, Step: 38000/50000, Loss: 1.6564\n",
            "Epoch: 1/2, Step: 40000/50000, Loss: 1.4835\n",
            "Epoch: 1/2, Step: 42000/50000, Loss: 1.1485\n",
            "Epoch: 1/2, Step: 44000/50000, Loss: 1.8051\n",
            "Epoch: 1/2, Step: 46000/50000, Loss: 2.1762\n",
            "Epoch: 1/2, Step: 48000/50000, Loss: 2.0085\n",
            "Epoch: 1/2, Step: 50000/50000, Loss: 0.9183\n",
            "Epoch: 2/2, Step: 2000/50000, Loss: 1.0917\n",
            "Epoch: 2/2, Step: 4000/50000, Loss: 0.7869\n",
            "Epoch: 2/2, Step: 6000/50000, Loss: 1.2230\n",
            "Epoch: 2/2, Step: 8000/50000, Loss: 1.5570\n",
            "Epoch: 2/2, Step: 10000/50000, Loss: 1.6771\n",
            "Epoch: 2/2, Step: 12000/50000, Loss: 2.9212\n",
            "Epoch: 2/2, Step: 14000/50000, Loss: 1.0474\n",
            "Epoch: 2/2, Step: 16000/50000, Loss: 1.8817\n",
            "Epoch: 2/2, Step: 18000/50000, Loss: 0.5383\n",
            "Epoch: 2/2, Step: 20000/50000, Loss: 2.4490\n",
            "Epoch: 2/2, Step: 22000/50000, Loss: 1.0255\n",
            "Epoch: 2/2, Step: 24000/50000, Loss: 2.0998\n",
            "Epoch: 2/2, Step: 26000/50000, Loss: 0.9973\n",
            "Epoch: 2/2, Step: 28000/50000, Loss: 0.3902\n",
            "Epoch: 2/2, Step: 30000/50000, Loss: 0.2267\n",
            "Epoch: 2/2, Step: 32000/50000, Loss: 1.4340\n",
            "Epoch: 2/2, Step: 34000/50000, Loss: 0.5186\n",
            "Epoch: 2/2, Step: 36000/50000, Loss: 1.1270\n",
            "Epoch: 2/2, Step: 38000/50000, Loss: 1.3018\n",
            "Epoch: 2/2, Step: 40000/50000, Loss: 1.3848\n",
            "Epoch: 2/2, Step: 42000/50000, Loss: 0.7499\n",
            "Epoch: 2/2, Step: 44000/50000, Loss: 1.0667\n",
            "Epoch: 2/2, Step: 46000/50000, Loss: 3.0685\n",
            "Epoch: 2/2, Step: 48000/50000, Loss: 2.0813\n",
            "Epoch: 2/2, Step: 50000/50000, Loss: 1.3307\n"
          ]
        }
      ]
    }
  ]
}